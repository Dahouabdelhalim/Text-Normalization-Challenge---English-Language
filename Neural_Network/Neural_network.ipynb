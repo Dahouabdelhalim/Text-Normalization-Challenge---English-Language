{
 "cells": [
  {
   "cell_type": "code",
   "execution_count": 2,
   "metadata": {},
   "outputs": [
    {
     "name": "stderr",
     "output_type": "stream",
     "text": [
      "Using TensorFlow backend.\n"
     ]
    }
   ],
   "source": [
    "from sklearn.model_selection import train_test_split\n",
    "from pprint import pprint\n",
    "import pandas as pd\n",
    "import numpy as np\n",
    "import sys\n",
    "import os\n",
    "import gc\n",
    "import re\n",
    "import keras\n",
    "from keras.models import Sequential\n",
    "from keras.layers import LSTM, Dense, Dropout\n",
    "from keras.optimizers import RMSprop\n",
    "import warnings\n",
    "from sklearn.neural_network import MLPClassifier\n",
    "from sklearn.neural_network import MLPRegressor\n",
    "from sklearn.model_selection import train_test_split\n",
    "from sklearn.metrics import accuracy_score\n",
    "warnings.filterwarnings(\"ignore\")"
   ]
  },
  {
   "cell_type": "code",
   "execution_count": 4,
   "metadata": {},
   "outputs": [],
   "source": [
    "training_data = pd.read_csv(\"input\\en_train.csv\").sample(n=100000,random_state=40)\n",
    "batch_size = 128\n",
    "epochs = 5\n",
    "max_num_features = 10\n",
    "space_letter = 0\n",
    "space_padded_tokens = []\n",
    "max_data_size = len(training_data)"
   ]
  },
  {
   "cell_type": "code",
   "execution_count": 10,
   "metadata": {},
   "outputs": [],
   "source": [
    "encoded_classes = pd.factorize(training_data['class'])\n",
    "# print_data = 100000\n",
    "x_data = []\n",
    "labels = encoded_classes[1]\n",
    "y_data = encoded_classes[0]\n",
    "gc.collect()\n",
    "count = 0"
   ]
  },
  {
   "cell_type": "code",
   "execution_count": 11,
   "metadata": {},
   "outputs": [],
   "source": [
    "for before_value in training_data['before'].values:\n",
    "    row = np.ones(max_num_features, dtype=int) * space_letter\n",
    "    for before_value_char, i in zip(list(str(before_value)), np.arange(max_num_features)):\n",
    "        row[i] = ord(before_value_char)\n",
    "    count+=1\n",
    "    x_data.append(row)"
   ]
  },
  {
   "cell_type": "code",
   "execution_count": 12,
   "metadata": {},
   "outputs": [],
   "source": [
    "def make_flat_context_windows(data, pad_size, max_num_features, boundary_letter):\n",
    "    pad = np.zeros(shape=max_num_features)\n",
    "    #create array of pad arrays\n",
    "    pads = [pad for _ in  np.arange(pad_size)]\n",
    "    data = pads + data + pads\n",
    "    flattened_context_windows = []\n",
    "    for lower_bound in np.arange(len(data) - pad_size * 2):\n",
    "        flattened_context_window = []\n",
    "        \n",
    "        context_window_size = pad_size * 2 + 1\n",
    "        upper_bound = lower_bound + context_window_size\n",
    "        context_window = data[lower_bound:upper_bound]\n",
    "        \n",
    "        for word in context_window:\n",
    "            flattened_context_window.append([boundary_letter])\n",
    "            flattened_context_window.append(word)\n",
    "        flattened_context_window.append([boundary_letter])\n",
    "        \n",
    "        flattened_context_windows.append([int(word) for row in flattened_context_window for word in row])\n",
    "    return flattened_context_windows\n"
   ]
  },
  {
   "cell_type": "code",
   "execution_count": 13,
   "metadata": {},
   "outputs": [
    {
     "data": {
      "text/plain": [
       "0"
      ]
     },
     "execution_count": 13,
     "metadata": {},
     "output_type": "execute_result"
    }
   ],
   "source": [
    "x_data = x_data[:max_data_size]\n",
    "y_data = y_data[:max_data_size]\n",
    "x_data = np.array(make_flat_context_windows(x_data, pad_size = 1, max_num_features= max_num_features, boundary_letter=-1))\n",
    "gc.collect()"
   ]
  },
  {
   "cell_type": "code",
   "execution_count": 14,
   "metadata": {},
   "outputs": [
    {
     "data": {
      "text/plain": [
       "20"
      ]
     },
     "execution_count": 14,
     "metadata": {},
     "output_type": "execute_result"
    }
   ],
   "source": [
    "x_train = np.array(x_data)\n",
    "y_train = np.array(y_data)\n",
    "gc.collect()"
   ]
  },
  {
   "cell_type": "code",
   "execution_count": 15,
   "metadata": {},
   "outputs": [],
   "source": [
    "#adding before and after columns to the data so that it can be used later\n",
    "b = np.zeros((x_train.shape[0], x_train.shape[1]+1), dtype='O')\n",
    "b[:,:-1] = x_train\n",
    "b[:,-1] = np.array(training_data['before'].tolist())\n",
    "\n",
    "c = np.zeros((x_train.shape[0], 2), dtype='O')\n",
    "c[:,0] = np.array(y_train.tolist())\n",
    "c[:,1] = np.array(training_data['after'].tolist())"
   ]
  },
  {
   "cell_type": "code",
   "execution_count": 16,
   "metadata": {},
   "outputs": [],
   "source": [
    "x_train, x_valid, y_train, y_valid = train_test_split(b, c, test_size=0.2, random_state=2017)"
   ]
  },
  {
   "cell_type": "code",
   "execution_count": 17,
   "metadata": {},
   "outputs": [],
   "source": [
    "num_classes = len(labels)\n",
    "y_train1 = keras.utils.to_categorical(y_train[:,:-1], num_classes)\n",
    "y_valid1 = keras.utils.to_categorical(y_valid[:,:-1], num_classes)\n",
    "x_train1 = np.reshape(x_train[:,:-1], (x_train[:,:-1].shape[0], x_train[:,:-1].shape[1], 1))\n",
    "x_valid1 = np.reshape(x_valid[:,:-1], (x_valid[:,:-1].shape[0], x_valid[:,:-1].shape[1], 1))"
   ]
  },
  {
   "cell_type": "code",
   "execution_count": 18,
   "metadata": {},
   "outputs": [],
   "source": [
    "model = Sequential()\n",
    "model.add(LSTM(128, dropout=0.2, recurrent_dropout=0.2, input_shape=((max_num_features * 3) + 4, 1)))\n",
    "model.add(Dense(32, activation='relu'))\n",
    "model.add(Dropout(0.2))\n",
    "model.add(Dense(len(labels), activation='softmax'))"
   ]
  },
  {
   "cell_type": "code",
   "execution_count": 19,
   "metadata": {},
   "outputs": [],
   "source": [
    "model.compile(optimizer='rmsprop', loss='categorical_crossentropy', metrics=['accuracy'])"
   ]
  },
  {
   "cell_type": "code",
   "execution_count": 20,
   "metadata": {},
   "outputs": [
    {
     "name": "stdout",
     "output_type": "stream",
     "text": [
      "Train on 80000 samples, validate on 20000 samples\n",
      "Epoch 1/5\n",
      "80000/80000 [==============================] - 65s 809us/step - loss: 0.4641 - accuracy: 0.8810 - val_loss: 0.2613 - val_accuracy: 0.9269\n",
      "Epoch 2/5\n",
      "80000/80000 [==============================] - 62s 772us/step - loss: 0.3180 - accuracy: 0.9146 - val_loss: 0.4566 - val_accuracy: 0.8362\n",
      "Epoch 3/5\n",
      "80000/80000 [==============================] - 60s 753us/step - loss: 0.2983 - accuracy: 0.9195 - val_loss: 0.1660 - val_accuracy: 0.9638\n",
      "Epoch 4/5\n",
      "80000/80000 [==============================] - 60s 745us/step - loss: 0.2882 - accuracy: 0.9231 - val_loss: 0.5152 - val_accuracy: 0.8189\n",
      "Epoch 5/5\n",
      "80000/80000 [==============================] - 60s 746us/step - loss: 0.2775 - accuracy: 0.9256 - val_loss: 0.4297 - val_accuracy: 0.8266\n"
     ]
    }
   ],
   "source": [
    "history = model.fit(x_train1, y_train1,\n",
    "                    batch_size=batch_size,\n",
    "                    epochs=epochs,\n",
    "                    verbose=1,\n",
    "                    validation_data=(x_valid1, y_valid1))"
   ]
  },
  {
   "cell_type": "code",
   "execution_count": 21,
   "metadata": {},
   "outputs": [],
   "source": [
    "#Storing all the attributes in one dataframe\n",
    "a=model.predict(x_train1)\n",
    "trainDatax=pd.DataFrame(x_train[:,:-1])\n",
    "trainDatax['predict_class']=pd.DataFrame(np.argmax(a, axis=1).tolist())\n",
    "trainDatax['before']=pd.DataFrame(x_train[:,-1])\n",
    "\n",
    "trainDatay=pd.DataFrame(y_train)\n",
    "trainDatay.columns = ['class','after']"
   ]
  },
  {
   "cell_type": "code",
   "execution_count": 22,
   "metadata": {},
   "outputs": [],
   "source": [
    "#Change is 0 if before=column else change is 1\n",
    "trainDatay['change'] = 1\n",
    "trainDatay['before'] = trainDatax['before']\n",
    "trainDatay.loc[trainDatay.before == trainDatay.after, 'change'] = 0\n",
    "trainDatax['predict_class'] = trainDatay['class']"
   ]
  },
  {
   "cell_type": "code",
   "execution_count": 28,
   "metadata": {},
   "outputs": [],
   "source": [
    "#Splitting data into its respective classes\n",
    "x_train2 = [0 for x in range(len(labels))]\n",
    "y_train2 = [0 for x in range(len(labels))]\n",
    "model1 = [0 for x in range(len(labels))]\n",
    "model2 = [0 for x in range(len(labels))]\n",
    "for x in range(len(labels)):\n",
    "    x_train2[x] = trainDatax[trainDatay['class']==x]\n",
    "    y_train2[x] = trainDatay[trainDatay['class']==x]\n",
    "    \n",
    "    if x_train2[x].shape[0]==0:\n",
    "        continue\n",
    "    \n",
    "    #Input Columns that are needed for predicting change\n",
    "    list1 = []\n",
    "    for y in range(x_train2[x].shape[1]-2):\n",
    "        list1.append(y)\n",
    "    list1.append('predict_class')\n",
    "    \n",
    "    #Training for predicting if change is needed\n",
    "    model1[x] = MLPClassifier(solver='lbfgs', hidden_layer_sizes=(10,10,10,10), activation='tanh',random_state=60)\n",
    "    model1[x].fit(x_train2[x][list1],y_train2[x][['change']])\n",
    "    \n",
    "    y_d = []\n",
    "    max_num_features=30\n",
    "    for after_value in y_train2[x]['after'].values:\n",
    "        row = np.ones(max_num_features, dtype=int) * space_letter\n",
    "        for after_value_char, i in zip(list(str(after_value)), np.arange(max_num_features)):\n",
    "            row[i] = ord(after_value_char)\n",
    "        y_d.append(row)\n",
    "    \n",
    "    #if predicted change is 1,then predict the after column\n",
    "    model2[x] = MLPRegressor(solver='lbfgs', hidden_layer_sizes=(100,100,100,100,100), activation='tanh',random_state=120)\n",
    "    model2[x].fit(x_train2[x][list1],y_d)"
   ]
  },
  {
   "cell_type": "code",
   "execution_count": 29,
   "metadata": {},
   "outputs": [],
   "source": [
    "def testing(X_test,y_test,labels):\n",
    "    #Predicting class\n",
    "    x_valid2 = np.reshape(X_test[:,:-1], (X_test[:,:-1].shape[0], X_test[:,:-1].shape[1], 1))\n",
    "    a=model.predict(x_valid2)\n",
    "    testDatax=pd.DataFrame(X_test[:,:-1])\n",
    "    testDatax['predict_class']=pd.DataFrame(np.argmax(a, axis=1).tolist())\n",
    "    testDatax['before']=pd.DataFrame(X_test[:,-1])\n",
    "    \n",
    "    testDatay=pd.DataFrame(y_test)\n",
    "    testDatay.columns = ['class','after']\n",
    "    \n",
    "    #Splitting Data\n",
    "    x_test1 = [0 for x in range(len(labels))]\n",
    "    y_test1 = [0 for x in range(len(labels))]\n",
    "    for x in range(len(labels)):\n",
    "        print(x)\n",
    "        x_test1[x] = testDatax[testDatax['predict_class']==x]\n",
    "        y_test1[x] = testDatay[testDatax['predict_class']==x]\n",
    "\n",
    "        if x_test1[x].shape[0]==0:\n",
    "            continue\n",
    "        \n",
    "        list1 = []\n",
    "        for y in range(x_test1[x].shape[1]-2):\n",
    "            list1.append(y)\n",
    "        list1.append('predict_class')\n",
    "        \n",
    "        #Predicting change\n",
    "        x_test1[x]['change_predict'] = model1[x].predict(x_test1[x][list1]).astype(int)\n",
    "        x_test1[x]['predict'] = x_test1[x]['change_predict']\n",
    "        x_test1[x].loc[x_test1[x].change_predict == 0, 'predict'] = x_test1[x].loc[x_test1[x].change_predict == 0, 'before']\n",
    "        if x_test1[x][x_test1[x]['change_predict']==1].shape[0]==0:\n",
    "            continue\n",
    "        \n",
    "        #Predicting Output if predicted change is 1\n",
    "        p = model2[x].predict(x_test1[x][x_test1[x]['change_predict']==1][list1]).astype(int)\n",
    "        p = np.array(p)\n",
    "        \n",
    "        row=0\n",
    "        for y in x_test1[x][x_test1[x]['change_predict']==1].index.tolist():\n",
    "            val = \"\"\n",
    "            for col in range(p.shape[1]):\n",
    "                try:\n",
    "                    if p[row][col]>31 and p[row][col]<58:\n",
    "                        val = val + chr(p[row][col])\n",
    "                    elif p[row][col]>64 and p[row][col]<91:\n",
    "                        val = val + chr(p[row][col])\n",
    "                    elif p[row][col]>96 and p[row][col]<123:\n",
    "                        val = val + chr(p[row][col])\n",
    "                except:\n",
    "                    continue\n",
    "            \n",
    "            x_test1[x].loc[y,'predict'] = val\n",
    "            row=row+1\n",
    "        \n",
    "        \n",
    "    input1=x_test1[0]\n",
    "    output1=y_test1[0]\n",
    "    for x in range(1,len(labels)):\n",
    "        input1 =pd.concat([input1,x_test1[x]])\n",
    "        output1 =pd.concat([output1,y_test1[x]])\n",
    "    \n",
    "    input1 = input1[['before','predict','predict_class']]\n",
    "    output1 = output1['after']\n",
    "    \n",
    "    from sklearn.metrics import accuracy_score, f1_score, precision_score, recall_score\n",
    "    print(\"Accuracy : \"+str(input1[input1['predict']==output1].shape[0]*100/input1.shape[0]))\n",
    "    print(\"precision_score : \"+str(precision_score(output1, input1['predict'], average=\"macro\")))\n",
    "    print(\"recall_score : \"+str(recall_score(output1, input1['predict'], average=\"macro\")))\n",
    "    print(\"f1_score : \"+str(f1_score(output1, input1['predict'], average=\"macro\")))\n",
    "    return input1,output1"
   ]
  },
  {
   "cell_type": "code",
   "execution_count": 30,
   "metadata": {},
   "outputs": [
    {
     "name": "stdout",
     "output_type": "stream",
     "text": [
      "Testing : \n",
      "Number of instances : 20000\n",
      "0\n",
      "1\n",
      "2\n",
      "3\n",
      "4\n",
      "5\n",
      "6\n",
      "7\n",
      "8\n",
      "9\n",
      "10\n",
      "11\n",
      "12\n",
      "13\n",
      "14\n",
      "15\n",
      "Accuracy : 79.205\n",
      "precision_score : 0.7158730832445231\n",
      "recall_score : 0.7027046408699041\n",
      "f1_score : 0.706442272615788\n"
     ]
    }
   ],
   "source": [
    "print(\"Testing : \")\n",
    "print(\"Number of instances : \"+str(x_valid.shape[0]))\n",
    "input2,output2=testing(x_valid,y_valid,labels)"
   ]
  },
  {
   "cell_type": "code",
   "execution_count": 31,
   "metadata": {},
   "outputs": [
    {
     "name": "stdout",
     "output_type": "stream",
     "text": [
      "Training : \n",
      "Number of instances : 80000\n",
      "0\n",
      "1\n",
      "2\n",
      "3\n",
      "4\n",
      "5\n",
      "6\n",
      "7\n",
      "8\n",
      "9\n",
      "10\n",
      "11\n",
      "12\n",
      "13\n",
      "14\n",
      "15\n",
      "Accuracy : 79.16\n",
      "precision_score : 0.70427659684227\n",
      "recall_score : 0.6851092957685128\n",
      "f1_score : 0.6903384701603337\n"
     ]
    }
   ],
   "source": [
    "print(\"Training : \")\n",
    "print(\"Number of instances : \"+str(x_train.shape[0]))\n",
    "input1,output1=testing(x_train,y_train,labels)"
   ]
  },
  {
   "cell_type": "code",
   "execution_count": 32,
   "metadata": {},
   "outputs": [],
   "source": [
    "input2['after']=output2\n",
    "input1['after']=output1\n",
    "\n",
    "class_transform={}\n",
    "for x in range(len(labels)):\n",
    "    class_transform[x]=labels[x]\n",
    "\n",
    "input1['predict_class']=input1['predict_class'].apply(class_transform.get).astype(str)\n",
    "input2['predict_class']=input2['predict_class'].apply(class_transform.get).astype(str)\n",
    "\n",
    "input1.to_csv('pred_train.csv')\n",
    "input2.to_csv('pred_test.csv')"
   ]
  },
  {
   "cell_type": "code",
   "execution_count": null,
   "metadata": {},
   "outputs": [],
   "source": []
  }
 ],
 "metadata": {
  "kernelspec": {
   "display_name": "Python 3",
   "language": "python",
   "name": "python3"
  },
  "language_info": {
   "codemirror_mode": {
    "name": "ipython",
    "version": 3
   },
   "file_extension": ".py",
   "mimetype": "text/x-python",
   "name": "python",
   "nbconvert_exporter": "python",
   "pygments_lexer": "ipython3",
   "version": "3.7.9"
  }
 },
 "nbformat": 4,
 "nbformat_minor": 4
}
